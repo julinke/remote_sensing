{
 "cells": [
  {
   "cell_type": "markdown",
   "metadata": {},
   "source": [
    "### Retrieving ASCAT soil moisture data\n",
    "\n",
    "- This notebook demonstrates a possible workflow to retrieve ASCAT soil moisture data\n",
    "\n",
    "- The ASCAT data organized in cells on the so-called [Fibonacci Grid](https://github.com/TUW-GEO/fibgrid) is provided by the [TU Vienna Remote Sensing Research Group](https://www.tuwien.at/mg/geo/rs)\n",
    "\n",
    "- We will focus on the regions of Buzi, Chokwé, Mabalane, Mabote, and Muanza in Mozambique\n"
   ]
  },
  {
   "cell_type": "code",
   "execution_count": 1,
   "metadata": {},
   "outputs": [],
   "source": [
    "from datetime import datetime\n",
    "from importlib import reload\n",
    "from time import time\n",
    "import netCDF4 as nc\n",
    "import ascat.read_native.ragged_array_ts as rat\n",
    "from ascat.read_native.ragged_array_ts import SwathFileCollection\n",
    "from ascat.read_native import xarray_io\n",
    "import numpy as np\n",
    "import xarray as xr\n",
    "import geopandas as gpd\n",
    "import osmnx as ox\n",
    "import os\n",
    "import folium\n",
    "import pandas as pd\n",
    "import matplotlib.pyplot as plt"
   ]
  },
  {
   "cell_type": "markdown",
   "metadata": {},
   "source": [
    "- The following code creates a dictonary with requested areas and their bounding boxes retrieved from OpenStreetMaps which we need for further steps"
   ]
  },
  {
   "cell_type": "code",
   "execution_count": 4,
   "metadata": {},
   "outputs": [
    {
     "name": "stdout",
     "output_type": "stream",
     "text": [
      "{'Buzi': [33.8931254, 34.8127126, -20.5695588, -19.582687], 'Chokwé': [32.5596257, 33.5225846, -24.8651389, -24.1120627], 'Mabalane': [32.2377105, 33.2483723, -24.1967515, -22.9668694], 'Mabote': [33.1611587, 34.6342067, -22.9057726, -21.3023939], 'Muanza': [34.4736235, 35.6973266, -19.5313462, -18.6416478]}\n"
     ]
    }
   ],
   "source": [
    "area_names =[\"Buzi\",\"Chokwé\",\"Mabalane\",\"Mabote\",\"Muanza\"]\n",
    "\n",
    "\n",
    "def bbox (area_names):\n",
    "\n",
    "\n",
    "    area_dict = dict()\n",
    "\n",
    "    for area_name in area_names:\n",
    "\n",
    "        # Get GeoDataFrame from OpenStreetMap\n",
    "        gdf = ox.geocode_to_gdf(area_name)\n",
    "        # Get bounding box [minx, miny, maxx, maxy]\n",
    "        bbox = gdf.total_bounds  \n",
    "\n",
    "        # To get a proper bounding box for processing later on in the shape of [min_lon, max_lon, min_lat, max_lat]\n",
    "        bbox= [float(bbox[0]), float(bbox[2]), float(bbox[1]), float(bbox[3])] \n",
    "\n",
    "        area_dict[area_name] = bbox\n",
    "    \n",
    "    return(area_dict)\n",
    "\n",
    "\n",
    "areas = bbox(area_names)\n",
    "\n",
    "print(areas)"
   ]
  },
  {
   "cell_type": "markdown",
   "metadata": {},
   "source": [
    "- To be able to read ASCAT cells we use the function rat.CellFileCollection and further collection.read()\n",
    "[(see documentation)](https://ascat.readthedocs.io/en/latest/xarray_readers_tutorial.html#working-with-collections-of-cell-files)\n",
    "\n",
    "- The next code block filters ASCAT cells by bounding box and time frame and retrieves the the cell's soil moisture data\n",
    "\n",
    "- Lastly each area, its soil moisture values and timestamps will be written to a csv file\n"
   ]
  },
  {
   "cell_type": "code",
   "execution_count": null,
   "metadata": {},
   "outputs": [
    {
     "name": "stderr",
     "output_type": "stream",
     "text": [
      "/home/jlinke/anaconda3/envs/drysat/lib/python3.13/site-packages/ascat/read_native/ragged_array_ts.py:945: UserWarning: Could not determine date range for collection 'ASCAT_Mozambique_data_fixed' from directory name. Using min/max datetime from files instead.\n",
      "  warnings.warn(\n"
     ]
    },
    {
     "name": "stdout",
     "output_type": "stream",
     "text": [
      "Saved ASCAT: /home/jlinke/Documents/Geo/drysat/sync/test1/Buzi_ascat.csv\n",
      "Saved ASCAT: /home/jlinke/Documents/Geo/drysat/sync/test2/Buzi_ascat.csv\n",
      "Saved ASCAT: /home/jlinke/Documents/Geo/drysat/sync/test1/Chokwé_ascat.csv\n",
      "Saved ASCAT: /home/jlinke/Documents/Geo/drysat/sync/test2/Chokwé_ascat.csv\n",
      "Saved ASCAT: /home/jlinke/Documents/Geo/drysat/sync/test1/Mabalane_ascat.csv\n",
      "Saved ASCAT: /home/jlinke/Documents/Geo/drysat/sync/test2/Mabalane_ascat.csv\n",
      "Saved ASCAT: /home/jlinke/Documents/Geo/drysat/sync/test1/Mabote_ascat.csv\n",
      "Saved ASCAT: /home/jlinke/Documents/Geo/drysat/sync/test2/Mabote_ascat.csv\n",
      "Saved ASCAT: /home/jlinke/Documents/Geo/drysat/sync/test1/Muanza_ascat.csv\n",
      "Saved ASCAT: /home/jlinke/Documents/Geo/drysat/sync/test2/Muanza_ascat.csv\n"
     ]
    }
   ],
   "source": [
    "import numpy as np\n",
    "import pandas as pd\n",
    "import os\n",
    "\n",
    "# Paths and setup\n",
    "cell_source = \"/home/jlinke/Documents/Geo/drysat/250603_present/ascat_data_mozambique\"\n",
    "output_dirs = [\"/home/jlinke/Documents/Geo/drysat/250603_present/ascat_output\"]\n",
    "\n",
    "\n",
    "collection = rat.CellFileCollection.from_product_id(cell_source, product_id=\"H121_v1.0\")\n",
    "\n",
    "\n",
    "# Define time range\n",
    "start_date = np.datetime64(\"2024-01-01\")\n",
    "end_date = np.datetime64(\"2024-12-31\")\n",
    "\n",
    "# Process each area\n",
    "for area_name, bounds in areas.items():\n",
    "    time_series_data = []\n",
    "\n",
    "    # Add more IDs as needed\n",
    "    for cell_id in [1524, 1525, 1526]:  \n",
    "        data = collection.read(cell=cell_id)\n",
    "\n",
    "        # Indexing values \n",
    "        data[\"location_id\"].load()\n",
    "        data[\"locationIndex\"].load()\n",
    "        data[\"location_id\"] = data[\"location_id\"][data[\"locationIndex\"]]\n",
    "        data[\"lon\"] = data[\"lon\"][data[\"locationIndex\"]]\n",
    "        data[\"lat\"] = data[\"lat\"][data[\"locationIndex\"]]\n",
    "\n",
    "        if \"time\" not in data.coords:\n",
    "            data = data.set_index(time=\"time\")\n",
    "\n",
    "        # Filtering data by bounding box\n",
    "        data_filt = data[\"surface_soil_moisture\"].where(\n",
    "            (data[\"lat\"] >= bounds[\"lat_min\"]) & (data[\"lat\"] <= bounds[\"lat_max\"]) &\n",
    "            (data[\"lon\"] >= bounds[\"lon_min\"]) & (data[\"lon\"] <= bounds[\"lon_max\"]) &\n",
    "            (data[\"time\"] >= start_date) & (data[\"time\"] <= end_date),\n",
    "            drop=True\n",
    "        )\n",
    "\n",
    "        # This if loop can be deleted in order to get the raw ASCAT timestamps\n",
    "        # Here the time gets rounded and the soil moisture value averaged\n",
    "        if data_filt.size > 0:\n",
    "            df = data_filt.to_dataframe().reset_index()\n",
    "            df[\"time\"] = pd.to_datetime(df[\"time\"]).dt.floor(\"h\")\n",
    "            hourly_avg = df.groupby(\"time\")[\"surface_soil_moisture\"].mean().reset_index()\n",
    "            time_series_data.append(hourly_avg)\n",
    "\n",
    "    if time_series_data:\n",
    "\n",
    "        # If there is no data overlap due to overlapping ASCAT cells it is not necessary to compute mean\n",
    "        final_df = pd.concat(time_series_data).groupby(\"time\")[\"surface_soil_moisture\"].mean().reset_index()\n",
    "        final_df.rename(columns={\"time\": \"datetime\", \"surface_soil_moisture\": \"avg_soil_moisture\"}, inplace=True)\n",
    "\n",
    "        for output_dir in output_dirs:\n",
    "            os.makedirs(output_dir, exist_ok=True)\n",
    "\n",
    "            # Save ASCAT data\n",
    "            ascat_path = os.path.join(output_dir, f\"{area_name}_ascat.csv\")\n",
    "            final_df.to_csv(ascat_path, index=False)\n",
    "            print(f\"Saved ASCAT: {ascat_path}\")\n",
    "\n",
    "           \n"
   ]
  },
  {
   "cell_type": "markdown",
   "metadata": {},
   "source": [
    "- To get a better understanding for the data we take a quick look at the dataframe"
   ]
  },
  {
   "cell_type": "code",
   "execution_count": 2,
   "metadata": {},
   "outputs": [
    {
     "data": {
      "text/html": [
       "<div>\n",
       "<style scoped>\n",
       "    .dataframe tbody tr th:only-of-type {\n",
       "        vertical-align: middle;\n",
       "    }\n",
       "\n",
       "    .dataframe tbody tr th {\n",
       "        vertical-align: top;\n",
       "    }\n",
       "\n",
       "    .dataframe thead th {\n",
       "        text-align: right;\n",
       "    }\n",
       "</style>\n",
       "<table border=\"1\" class=\"dataframe\">\n",
       "  <thead>\n",
       "    <tr style=\"text-align: right;\">\n",
       "      <th></th>\n",
       "      <th>datetime</th>\n",
       "      <th>avg_soil_moisture</th>\n",
       "    </tr>\n",
       "  </thead>\n",
       "  <tbody>\n",
       "    <tr>\n",
       "      <th>0</th>\n",
       "      <td>2024-01-01 06:00:00</td>\n",
       "      <td>61.935113</td>\n",
       "    </tr>\n",
       "    <tr>\n",
       "      <th>1</th>\n",
       "      <td>2024-01-01 07:00:00</td>\n",
       "      <td>69.896708</td>\n",
       "    </tr>\n",
       "    <tr>\n",
       "      <th>2</th>\n",
       "      <td>2024-01-01 18:00:00</td>\n",
       "      <td>63.593815</td>\n",
       "    </tr>\n",
       "    <tr>\n",
       "      <th>3</th>\n",
       "      <td>2024-01-01 19:00:00</td>\n",
       "      <td>63.381158</td>\n",
       "    </tr>\n",
       "    <tr>\n",
       "      <th>4</th>\n",
       "      <td>2024-01-03 06:00:00</td>\n",
       "      <td>66.065519</td>\n",
       "    </tr>\n",
       "    <tr>\n",
       "      <th>...</th>\n",
       "      <td>...</td>\n",
       "      <td>...</td>\n",
       "    </tr>\n",
       "    <tr>\n",
       "      <th>310</th>\n",
       "      <td>2024-05-29 07:00:00</td>\n",
       "      <td>1.680000</td>\n",
       "    </tr>\n",
       "    <tr>\n",
       "      <th>311</th>\n",
       "      <td>2024-05-30 06:00:00</td>\n",
       "      <td>15.684437</td>\n",
       "    </tr>\n",
       "    <tr>\n",
       "      <th>312</th>\n",
       "      <td>2024-05-30 07:00:00</td>\n",
       "      <td>10.784242</td>\n",
       "    </tr>\n",
       "    <tr>\n",
       "      <th>313</th>\n",
       "      <td>2024-05-30 18:00:00</td>\n",
       "      <td>13.083781</td>\n",
       "    </tr>\n",
       "    <tr>\n",
       "      <th>314</th>\n",
       "      <td>2024-05-30 19:00:00</td>\n",
       "      <td>8.561383</td>\n",
       "    </tr>\n",
       "  </tbody>\n",
       "</table>\n",
       "<p>315 rows × 2 columns</p>\n",
       "</div>"
      ],
      "text/plain": [
       "                datetime  avg_soil_moisture\n",
       "0    2024-01-01 06:00:00          61.935113\n",
       "1    2024-01-01 07:00:00          69.896708\n",
       "2    2024-01-01 18:00:00          63.593815\n",
       "3    2024-01-01 19:00:00          63.381158\n",
       "4    2024-01-03 06:00:00          66.065519\n",
       "..                   ...                ...\n",
       "310  2024-05-29 07:00:00           1.680000\n",
       "311  2024-05-30 06:00:00          15.684437\n",
       "312  2024-05-30 07:00:00          10.784242\n",
       "313  2024-05-30 18:00:00          13.083781\n",
       "314  2024-05-30 19:00:00           8.561383\n",
       "\n",
       "[315 rows x 2 columns]"
      ]
     },
     "execution_count": 2,
     "metadata": {},
     "output_type": "execute_result"
    }
   ],
   "source": [
    "df = pd.read_csv(\"/home/jlinke/Documents/Geo/drysat/250603_present/ascat_output/Buzi_ascat.csv\")\n",
    "\n",
    "df"
   ]
  }
 ],
 "metadata": {
  "kernelspec": {
   "display_name": "draysat",
   "language": "python",
   "name": "drysat"
  },
  "language_info": {
   "codemirror_mode": {
    "name": "ipython",
    "version": 3
   },
   "file_extension": ".py",
   "mimetype": "text/x-python",
   "name": "python",
   "nbconvert_exporter": "python",
   "pygments_lexer": "ipython3",
   "version": "3.13.2"
  }
 },
 "nbformat": 4,
 "nbformat_minor": 2
}
